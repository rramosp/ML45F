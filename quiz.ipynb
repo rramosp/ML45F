{
 "cells": [
  {
   "cell_type": "markdown",
   "metadata": {},
   "source": [
    "## EJECUTA ESTA CELDA PARA AUTENTICARTE CON TU CUENTA DE GMAIL"
   ]
  },
  {
   "cell_type": "code",
   "execution_count": null,
   "metadata": {
    "collapsed": true
   },
   "outputs": [],
   "source": [
    "from mooclib import *\n",
    "import inspect, urllib\n",
    "html, auth_code, userinfo = google_authenticate(PORT_NUMBER=8080)\n",
    "html"
   ]
  },
  {
   "cell_type": "markdown",
   "metadata": {},
   "source": [
    "## Ejercicio 1\n",
    "\n",
    "implementa la siguiente función de coste de una red neuronal de una sola capa:\n",
    "\n",
    "\n",
    "$$J(\\mathbf{b}_1, b_2, \\mathbf{W}_1, \\mathbf{W}_2) = \\frac{1}{m}\\sum_{i=0}^{m-1} (\\hat{y}-y)^2 + \\lambda \\left[ || \\mathbf{b}_1||_1 + ||\\mathbf{W}_1||_1 + ||\\mathbf{W}_2||_1\\right]$$\n",
    "\n",
    "donde\n",
    "\n",
    "$$\\hat{y} = g(\\mathbf{W}_2 \\cdot \\tanh(\\mathbf{x^T} \\cdot \\mathbf{W}_1 + \\mathbf{b}_1) + b_2)$$\n",
    "\n",
    "y $||K||_1$ es la norma L1 de $K$, es decir, el número de elementos de $K$ (sea una matriz o un vector) que son distintos de cero.\n",
    "\n",
    "observaciones:\n",
    "- puedes usar las funciones `decode`, `y_hat` del ejercicio 2 del problemset 4.\n",
    "- fíjate que ahora las funciones `decode`, `y_hat` están dentro de `cost` (y no fuera como en el ejercicio referido)\n",
    "- al incluir la norma L1 en la función de coste, obligamos al minimizador a que penalize a los conjuntos de parámetros con muchos valores distintos de cero. Es decir, favorecemos la dispersión (_sparsity_)"
   ]
  },
  {
   "cell_type": "code",
   "execution_count": null,
   "metadata": {
    "collapsed": true
   },
   "outputs": [],
   "source": [
    "\n",
    "\n",
    "def cost(X, y, params, reg, nb_cols, h_units):\n",
    "\n",
    "    def decode(params, nb_cols, h_units):\n",
    "        ....\n",
    "        return b1, b2, W1, W2\n",
    "    \n",
    "    def y_hat(params, nb_cols, h_units, X):\n",
    "        return ...\n",
    "\n",
    "    b1,b2,W1,W2 = decode(params, nb_cols, h_units)\n",
    "\n",
    "    r = ...\n",
    "    return r\n",
    "\n",
    "\n",
    "import urllib, inspect\n",
    "src1 = urllib.quote_plus(inspect.getsource(cost))"
   ]
  },
  {
   "cell_type": "markdown",
   "metadata": {},
   "source": [
    "comprueba tu código. el coste más abajo ha de darte 4.807 aprox."
   ]
  },
  {
   "cell_type": "code",
   "execution_count": null,
   "metadata": {
    "collapsed": false
   },
   "outputs": [],
   "source": [
    "import numpy as np\n",
    "def encode(b1, b2, W1, W2): \n",
    "    return np.array(list(b1)+[b2]+list(W1.flatten())+list(W2.flatten()))\n",
    "\n",
    "data = np.loadtxt(\"data/logregdata.csv\", delimiter=\",\", skiprows=1)\n",
    "X,y = data[:,:2], data[:,2]\n",
    "\n",
    "h_units=4\n",
    "cols = X.shape[1]\n",
    "b1, b2, W1, W2 = np.ones(h_units), 2, np.ones((cols, h_units))*3, np.ones((h_units,1))*4\n",
    "b1[[0,2]]=0\n",
    "W1[:,2]=0\n",
    "W2[0,0]=0\n",
    "params = encode(b1,b2,W1,W2)\n",
    "print \"cost     \", cost(X,y,params,0.4, cols, h_units)"
   ]
  },
  {
   "cell_type": "markdown",
   "metadata": {},
   "source": [
    "#### evaluate your answer before submitting:"
   ]
  },
  {
   "cell_type": "code",
   "execution_count": null,
   "metadata": {
    "collapsed": false
   },
   "outputs": [],
   "source": [
    "!./run CHECK_SOLUTION QZ2_1 $src1"
   ]
  },
  {
   "cell_type": "markdown",
   "metadata": {},
   "source": [
    "#### submit your answer (you must be connected to internet)"
   ]
  },
  {
   "cell_type": "code",
   "execution_count": null,
   "metadata": {
    "collapsed": true
   },
   "outputs": [],
   "source": [
    "!./run SUBMIT_SOLUTION QZ2_1 $src1"
   ]
  },
  {
   "cell_type": "markdown",
   "metadata": {},
   "source": [
    "## Ejercicio 2\n",
    "\n",
    "completa la función siguiente para que, dado un estimador, un dataset (X,y) y un array de índices:\n",
    "\n",
    "1. entrene el estimador con la parte del dataset (X,y) correspondiente a esos índices\n",
    "2. mida el desempeño (función `score` del estimador) la parte del dataset (X,y) complementaria a esos índices\n",
    "3. devuelva el desempeño medido.\n",
    "\n",
    "P.ej. si $X \\in \\mathbb{R}^{10\\times n}$, $y \\in \\mathbb{R}^{10}$, y `train_indexes=[5,3,0,1,4,2]` el entrenamiento se hará con los primeros seis elementos de $X$ e $y$, y el desemeño (_score_) se medirá con el resto."
   ]
  },
  {
   "cell_type": "code",
   "execution_count": null,
   "metadata": {
    "collapsed": true
   },
   "outputs": [],
   "source": [
    "def estimator_train_test(estimator, X, y, train_indexes):\n",
    "    test_indexes     = ...\n",
    "    X_train, y_train = ...\n",
    "    X_test, y_test   = ...\n",
    "    \n",
    "    score  = ... \n",
    "    return score\n",
    "\n",
    "import urllib, inspect\n",
    "src2 = urllib.quote_plus(inspect.getsource(estimator_train_test))"
   ]
  },
  {
   "cell_type": "markdown",
   "metadata": {},
   "source": [
    "#### evaluate your answer before submitting:"
   ]
  },
  {
   "cell_type": "code",
   "execution_count": null,
   "metadata": {
    "collapsed": false
   },
   "outputs": [],
   "source": [
    "!./run CHECK_SOLUTION QZ2_2 $src2"
   ]
  },
  {
   "cell_type": "markdown",
   "metadata": {},
   "source": [
    "#### submit your answer (you must be connected to internet)"
   ]
  },
  {
   "cell_type": "code",
   "execution_count": null,
   "metadata": {
    "collapsed": true
   },
   "outputs": [],
   "source": [
    "!./run SUBMIT_SOLUTION QZ2_2 $src2"
   ]
  },
  {
   "cell_type": "markdown",
   "metadata": {},
   "source": [
    "## Ejercicio 3\n",
    "\n",
    "completa `check_kernel` siguiente para que verifique si una función $K$ es un kernel válido con respecto a una función de transformación $\\phi$, dados dos vectores $u$ y $v$.\n",
    "\n",
    "`check_kernel` tendrá que devolver `True` si:\n",
    "\n",
    "$$K(u,v) = \\langle \\phi(u), \\phi(v) \\rangle$$\n",
    "\n",
    "donde $\\langle \\dot \\;\\;, \\dot \\; \\rangle$ es el producto punto. Revisa las notas de la lección 6 y observa el código de comprobación más abajo para entender cómo debería de comportarse tu función.\n",
    "\n",
    "**observaciones**\n",
    "\n",
    "- usa la función [`np.allclose`](https://docs.scipy.org/doc/numpy/reference/generated/numpy.allclose.html) para comparar dos números, mejor que el operador `==` que es sensible a problemas de precisión numérica"
   ]
  },
  {
   "cell_type": "code",
   "execution_count": null,
   "metadata": {
    "collapsed": true
   },
   "outputs": [],
   "source": [
    "def check_kernel(K_function, phi_function, u, v):\n",
    "    r = ...\n",
    "    return r\n",
    "\n",
    "import urllib, inspect\n",
    "src3 = urllib.quote_plus(inspect.getsource(check_kernel))"
   ]
  },
  {
   "cell_type": "markdown",
   "metadata": {},
   "source": [
    "comprueba tu código"
   ]
  },
  {
   "cell_type": "code",
   "execution_count": null,
   "metadata": {
    "collapsed": false
   },
   "outputs": [],
   "source": [
    "import numpy as np\n",
    "\n",
    "def kernel(u,v):\n",
    "    return (u.dot(v)+1)**2\n",
    "\n",
    "def invalid_kernel(u,v):\n",
    "    return np.sum(u-v)\n",
    "\n",
    "def phi(u):\n",
    "    return np.array([u[0]**2, u[1]**2, np.sqrt(2)*u[0], np.sqrt(2)*u[1], np.sqrt(2)*u[0]*u[1],1 ])\n",
    "\n",
    "X=np.array([[ 1.5,1.5], [ 1.5,1.], [ 0.,1. ], [ 0.5,1.], [1.,0.5]])\n",
    "\n",
    "u, v = X[0], X[2]\n",
    "\n",
    "print \"check valid kernel (True expected):    \", check_kernel(kernel,phi, u,v)\n",
    "print \"check NOT valid kernel (False expected):\", check_kernel(invalid_kernel,phi, u,v)"
   ]
  },
  {
   "cell_type": "markdown",
   "metadata": {},
   "source": [
    "#### evaluate your answer before submitting:"
   ]
  },
  {
   "cell_type": "code",
   "execution_count": null,
   "metadata": {
    "collapsed": false
   },
   "outputs": [],
   "source": [
    "!./run CHECK_SOLUTION QZ2_3 $src3"
   ]
  },
  {
   "cell_type": "markdown",
   "metadata": {},
   "source": [
    "#### submit your answer (you must be connected to internet)"
   ]
  },
  {
   "cell_type": "code",
   "execution_count": null,
   "metadata": {
    "collapsed": true
   },
   "outputs": [],
   "source": [
    "!./run SUBMIT_SOLUTION QZ2_3 $src3"
   ]
  },
  {
   "cell_type": "markdown",
   "metadata": {},
   "source": [
    "\n",
    "\n",
    "## Ejercicio 4\n",
    "\n",
    "completa la función siguiente para que muestree una partición de train y otra de test a partir de un dataset $(X,y)$, de forma que:\n",
    "\n",
    "- la parte de test tenga `train_length` datos que deberán de ser **consecutivos** en $(X,y)$\n",
    "- la parte de test tenga `test_length` datos que deberán de ser **consecutivos** en $(X,y)$ e **inmediatamente** los siguientes a los de train.\n",
    "- devuelva cuatro variables `X_train, y_train, X_test, y_test` con las particiones correspondientes.\n",
    "\n",
    "P.ej. para el siguiente dataset:\n",
    "\n",
    "    X = [[-0.793 -0.094]\n",
    "         [-0.408  0.811]\n",
    "         [-0.445  1.143]\n",
    "         [ 0.15   0.071]\n",
    "         [-0.438  0.883]\n",
    "         [-0.736  0.387]\n",
    "         [-0.834  0.226]\n",
    "         [ 1.149 -0.554]\n",
    "         [-0.489  0.387]\n",
    "         [ 0.361  0.251]]\n",
    "         \n",
    "     y = [ 0.  0.  0.  1.  0.  0.  0.  1.  0.  1.]\n",
    "\n",
    "una posible salida a:\n",
    "\n",
    "        Xtr, ytr, Xts, yts = resample(X,y,4, 2)\n",
    "        print Xtr\n",
    "        print Xts\n",
    "        print ytr, yts\n",
    "\n",
    "sería la siguiente:\n",
    "\n",
    "    [[-0.445  1.143]\n",
    "     [ 0.15   0.071]\n",
    "     [-0.438  0.883]\n",
    "     [-0.736  0.387]]\n",
    "    [[-0.834  0.226]\n",
    "     [ 1.149 -0.554]]\n",
    "    [ 0.  1.  0.  0.] [ 0.  1.]\n",
    "\n"
   ]
  },
  {
   "cell_type": "code",
   "execution_count": null,
   "metadata": {
    "collapsed": true
   },
   "outputs": [],
   "source": [
    "def resample(X,y, train_length, test_length):\n",
    "    \n",
    "    X_train = ...\n",
    "    y_train = ...\n",
    "    X_test  = ...\n",
    "    y_test  = ...\n",
    "\n",
    "import urllib, inspect\n",
    "src4 = urllib.quote_plus(inspect.getsource(resample))"
   ]
  },
  {
   "cell_type": "markdown",
   "metadata": {
    "collapsed": true
   },
   "source": [
    "comprueba tu código\n"
   ]
  },
  {
   "cell_type": "code",
   "execution_count": null,
   "metadata": {
    "collapsed": false
   },
   "outputs": [],
   "source": [
    "import numpy as np\n",
    "data = np.loadtxt(\"data/logregdata.csv\", delimiter=\",\", skiprows=1)\n",
    "X,y = data[:,:2], data[:,2]\n",
    "X = X[:10]\n",
    "y = y[:10]\n",
    "print \"dataset original\"\n",
    "print X\n",
    "print y\n",
    "\n",
    "print \"\\nparticiones train/test\"\n",
    "Xtr, ytr, Xts, yts = resample(X,y,4, 2)\n",
    "print Xtr\n",
    "print Xts\n",
    "print ytr, yts\n",
    "\n",
    "\n",
    "ids = np.array([np.argwhere(X==i)[0][0] for i in Xtr] + [np.argwhere(X==i)[0][0] for i in Xts])\n",
    "print ids\n",
    "np.alltrue((ids - np.min(ids))==np.arange(6))"
   ]
  },
  {
   "cell_type": "markdown",
   "metadata": {},
   "source": [
    "#### evaluate your answer before submitting:"
   ]
  },
  {
   "cell_type": "code",
   "execution_count": null,
   "metadata": {
    "collapsed": false
   },
   "outputs": [],
   "source": [
    "!./run CHECK_SOLUTION QZ2_4 $src4"
   ]
  },
  {
   "cell_type": "markdown",
   "metadata": {},
   "source": [
    "#### submit your answer (you must be connected to internet)"
   ]
  },
  {
   "cell_type": "code",
   "execution_count": null,
   "metadata": {
    "collapsed": true
   },
   "outputs": [],
   "source": [
    "!./run SUBMIT_SOLUTION QZ2_4 $src4"
   ]
  }
 ],
 "metadata": {
  "kernelspec": {
   "display_name": "Python 2",
   "language": "python",
   "name": "python2"
  },
  "language_info": {
   "codemirror_mode": {
    "name": "ipython",
    "version": 2
   },
   "file_extension": ".py",
   "mimetype": "text/x-python",
   "name": "python",
   "nbconvert_exporter": "python",
   "pygments_lexer": "ipython2",
   "version": "2.7.11"
  },
  "toc": {
   "toc_cell": false,
   "toc_number_sections": false,
   "toc_threshold": 6,
   "toc_window_display": false
  },
  "widgets": {
   "state": {},
   "version": "1.1.2"
  }
 },
 "nbformat": 4,
 "nbformat_minor": 0
}
